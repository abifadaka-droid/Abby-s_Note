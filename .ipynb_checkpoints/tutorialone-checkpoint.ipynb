{
 "cells": [
  {
   "cell_type": "code",
   "execution_count": 52,
   "id": "e5a0d087-812d-4a63-9ea6-a6e7c81bcec1",
   "metadata": {},
   "outputs": [
    {
     "name": "stdout",
     "output_type": "stream",
     "text": [
      "Abby\n"
     ]
    }
   ],
   "source": [
    "x = 'Abby'\n",
    "print(x)"
   ]
  },
  {
   "cell_type": "code",
   "execution_count": 53,
   "id": "8c11c4b7-ed01-483a-87e7-93f2356d24fd",
   "metadata": {},
   "outputs": [
    {
     "name": "stdout",
     "output_type": "stream",
     "text": [
      "five is greater than two\n"
     ]
    }
   ],
   "source": [
    "if 5>2:\n",
    "    print (\"five is greater than two\")"
   ]
  },
  {
   "cell_type": "code",
   "execution_count": 54,
   "id": "69647037-220c-499f-a0d1-44f7a074d8d4",
   "metadata": {},
   "outputs": [
    {
     "name": "stdout",
     "output_type": "stream",
     "text": [
      "b is not greater than a\n"
     ]
    }
   ],
   "source": [
    "a = 200\n",
    "b = 33\n",
    "if b>a:\n",
    "    print (\"b is greater than a\")\n",
    "else:\n",
    "    print (\"b is not greater than a\")"
   ]
  },
  {
   "cell_type": "code",
   "execution_count": 55,
   "id": "6c1b66cb-1076-4c60-a9a6-dfcc0da96174",
   "metadata": {},
   "outputs": [
    {
     "name": "stdout",
     "output_type": "stream",
     "text": [
      "orange\n",
      "banana\n",
      "cherry\n"
     ]
    }
   ],
   "source": [
    "x,y,z= \"orange\",\"banana\",\"cherry\"\n",
    "print (x)\n",
    "print (y)\n",
    "print (z)"
   ]
  },
  {
   "cell_type": "code",
   "execution_count": 56,
   "id": "3d839a04-e088-4057-b6e5-d3b3e9732d46",
   "metadata": {},
   "outputs": [
    {
     "name": "stdout",
     "output_type": "stream",
     "text": [
      "Jello, World!\n"
     ]
    }
   ],
   "source": [
    "a = \"Hello, World!\"\n",
    "print (a.replace(\"H\", \"J\"))"
   ]
  },
  {
   "cell_type": "code",
   "execution_count": 57,
   "id": "da284aa5-0a32-4dcd-8d33-326e1cfeefca",
   "metadata": {},
   "outputs": [
    {
     "name": "stdout",
     "output_type": "stream",
     "text": [
      "ABIEYUWA FADAKA\n"
     ]
    }
   ],
   "source": [
    "a = \"Abieyuwa Fadaka\"\n",
    "print (a.upper())"
   ]
  },
  {
   "cell_type": "code",
   "execution_count": 58,
   "id": "36eaa03f-9592-451b-ac4a-8bf091d3796f",
   "metadata": {},
   "outputs": [
    {
     "name": "stdout",
     "output_type": "stream",
     "text": [
      "abieyuwa fadaka\n"
     ]
    }
   ],
   "source": [
    "a = \"Abieyuwa Fadaka\"\n",
    "print (a.lower())"
   ]
  },
  {
   "cell_type": "code",
   "execution_count": 59,
   "id": "1329f159-1341-45f2-8246-8e8cb1788358",
   "metadata": {},
   "outputs": [
    {
     "name": "stdout",
     "output_type": "stream",
     "text": [
      "My name is John, I am 36\n"
     ]
    }
   ],
   "source": [
    "age = 36\n",
    "txt = f\"My name is John, I am {age}\"\n",
    "print (txt)"
   ]
  },
  {
   "cell_type": "code",
   "execution_count": 60,
   "id": "1b744a7b-0223-47ff-a627-c83bd7780468",
   "metadata": {},
   "outputs": [
    {
     "name": "stdout",
     "output_type": "stream",
     "text": [
      "The price is 59 dollars\n"
     ]
    }
   ],
   "source": [
    "price = 59\n",
    "txt = f\"The price is {price} dollars\"\n",
    "print (txt)"
   ]
  },
  {
   "cell_type": "code",
   "execution_count": null,
   "id": "16df4428-a529-4a7d-90b0-2cdb221522fd",
   "metadata": {},
   "outputs": [],
   "source": []
  }
 ],
 "metadata": {
  "kernelspec": {
   "display_name": "Python 3 (ipykernel)",
   "language": "python",
   "name": "python3"
  },
  "language_info": {
   "codemirror_mode": {
    "name": "ipython",
    "version": 3
   },
   "file_extension": ".py",
   "mimetype": "text/x-python",
   "name": "python",
   "nbconvert_exporter": "python",
   "pygments_lexer": "ipython3",
   "version": "3.13.5"
  }
 },
 "nbformat": 4,
 "nbformat_minor": 5
}
