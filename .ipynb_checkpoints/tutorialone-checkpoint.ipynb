{
 "cells": [
  {
   "cell_type": "code",
   "execution_count": 1,
   "id": "e5a0d087-812d-4a63-9ea6-a6e7c81bcec1",
   "metadata": {},
   "outputs": [
    {
     "name": "stdout",
     "output_type": "stream",
     "text": [
      "9 1.7 Abby\n"
     ]
    }
   ],
   "source": [
    "x = 9\n",
    "y = 1.7\n",
    "z = 'Abby'\n",
    "print(x,y,z)"
   ]
  },
  {
   "cell_type": "code",
   "execution_count": 2,
   "id": "8c11c4b7-ed01-483a-87e7-93f2356d24fd",
   "metadata": {},
   "outputs": [
    {
     "name": "stdout",
     "output_type": "stream",
     "text": [
      "z is str\n"
     ]
    }
   ],
   "source": [
    "if x<y:\n",
    "    print (\"x is greater than y\")\n",
    "    \n",
    "elif isinstance(z, str):\n",
    "    print (\"z is str\")\n",
    "else:\n",
    "    print (\"x is not greater than y or z\")"
   ]
  },
  {
   "cell_type": "code",
   "execution_count": 3,
   "id": "05fb022b-4a9a-4323-a287-a505d3385986",
   "metadata": {},
   "outputs": [
    {
     "name": "stdout",
     "output_type": "stream",
     "text": [
      "Abby is 18 years old\n"
     ]
    }
   ],
   "source": [
    "age = 18\n",
    "name = 'Abby'\n",
    "print (f\"{name} is {age} years old\")"
   ]
  },
  {
   "cell_type": "code",
   "execution_count": 4,
   "id": "69647037-220c-499f-a0d1-44f7a074d8d4",
   "metadata": {},
   "outputs": [
    {
     "name": "stdout",
     "output_type": "stream",
     "text": [
      "b is not greater than a\n"
     ]
    }
   ],
   "source": [
    "a = 200\n",
    "b = 33\n",
    "if b>a:\n",
    "    print (\"b is greater than a\")\n",
    "else:\n",
    "    print (\"b is not greater than a\")"
   ]
  },
  {
   "cell_type": "code",
   "execution_count": 5,
   "id": "6c1b66cb-1076-4c60-a9a6-dfcc0da96174",
   "metadata": {},
   "outputs": [
    {
     "name": "stdout",
     "output_type": "stream",
     "text": [
      "orange\n",
      "banana\n",
      "cherry\n"
     ]
    }
   ],
   "source": [
    "x,y,z= \"orange\",\"banana\",\"cherry\"\n",
    "print (x)\n",
    "print (y)\n",
    "print (z)"
   ]
  },
  {
   "cell_type": "code",
   "execution_count": 6,
   "id": "3d839a04-e088-4057-b6e5-d3b3e9732d46",
   "metadata": {},
   "outputs": [
    {
     "name": "stdout",
     "output_type": "stream",
     "text": [
      "Jello, World!\n"
     ]
    }
   ],
   "source": [
    "a = \"Hello, World!\"\n",
    "print (a.replace(\"H\", \"J\"))"
   ]
  },
  {
   "cell_type": "code",
   "execution_count": 7,
   "id": "da284aa5-0a32-4dcd-8d33-326e1cfeefca",
   "metadata": {},
   "outputs": [
    {
     "name": "stdout",
     "output_type": "stream",
     "text": [
      "ABIEYUWA FADAKA\n"
     ]
    }
   ],
   "source": [
    "a = \"Abieyuwa Fadaka\"\n",
    "print (a.upper())"
   ]
  },
  {
   "cell_type": "code",
   "execution_count": 8,
   "id": "36eaa03f-9592-451b-ac4a-8bf091d3796f",
   "metadata": {},
   "outputs": [
    {
     "name": "stdout",
     "output_type": "stream",
     "text": [
      "abieyuwa fadaka\n"
     ]
    }
   ],
   "source": [
    "a = \"Abieyuwa Fadaka\"\n",
    "print (a.lower())"
   ]
  },
  {
   "cell_type": "code",
   "execution_count": 9,
   "id": "1329f159-1341-45f2-8246-8e8cb1788358",
   "metadata": {},
   "outputs": [
    {
     "name": "stdout",
     "output_type": "stream",
     "text": [
      "My name is John, I am 36\n"
     ]
    }
   ],
   "source": [
    "age = 36\n",
    "txt = f\"My name is John, I am {age}\"\n",
    "print (txt)"
   ]
  },
  {
   "cell_type": "code",
   "execution_count": 10,
   "id": "1b744a7b-0223-47ff-a627-c83bd7780468",
   "metadata": {},
   "outputs": [
    {
     "name": "stdout",
     "output_type": "stream",
     "text": [
      "The price is 59 dollars\n"
     ]
    }
   ],
   "source": [
    "price = 59\n",
    "txt = f\"The price is {price} dollars\"\n",
    "print (txt)"
   ]
  },
  {
   "cell_type": "code",
   "execution_count": 11,
   "id": "16df4428-a529-4a7d-90b0-2cdb221522fd",
   "metadata": {},
   "outputs": [],
   "source": [
    "def progress():\n",
    "    print(\"Abby\")"
   ]
  },
  {
   "cell_type": "code",
   "execution_count": 12,
   "id": "7b905677-6953-4c70-8916-ccc404bfea89",
   "metadata": {},
   "outputs": [
    {
     "name": "stdout",
     "output_type": "stream",
     "text": [
      "Abby\n"
     ]
    }
   ],
   "source": [
    "progress()"
   ]
  },
  {
   "cell_type": "code",
   "execution_count": 13,
   "id": "fc7012e5-28be-4f70-a03b-5d3e93177c9a",
   "metadata": {},
   "outputs": [],
   "source": [
    "def Abbysbio(names,ages):\n",
    "    for name, age in zip(names, ages):\n",
    "        print (f\"{name} is {age} years old\")"
   ]
  },
  {
   "cell_type": "code",
   "execution_count": 14,
   "id": "93ab3b32-a326-4653-893b-3ec804c63962",
   "metadata": {},
   "outputs": [
    {
     "name": "stdout",
     "output_type": "stream",
     "text": [
      "Abby is 18 years old\n",
      "Emeka is 34 years old\n",
      "Ade is 20 years old\n",
      "Salem is 56 years old\n",
      "Blessing is 35 years old\n"
     ]
    }
   ],
   "source": [
    "    names = [\"Abby\",\"Emeka\",\"Ade\",\"Salem\",\"Blessing\"]\n",
    "    ages = [18,34,20,56,35]\n",
    "\n",
    "Abbysbio(names,ages)"
   ]
  },
  {
   "cell_type": "code",
   "execution_count": 15,
   "id": "598cc718-7246-4da0-8bbb-3f0309696843",
   "metadata": {},
   "outputs": [],
   "source": [
    " ###Write a function that fetch Abby,emeka,ade ,salem and blessings age when Abby is 18 , emeka was born 1999, ade, 2002, saleem 1990, bleessing 2004"
   ]
  },
  {
   "cell_type": "code",
   "execution_count": 16,
   "id": "835a6a34-5820-4ec8-a8d4-78184a056063",
   "metadata": {},
   "outputs": [],
   "source": [
    "def bios(names,ages):\n",
    "    Abby = 18\n",
    "    Today = 2025\n",
    "    Emeka = Today - 1999\n",
    "    Ade = Today - 2002\n",
    "    Salem = Today - 1990\n",
    "    Blessing = Today - 2004\n",
    "    for name, age in zip(names, ages):\n",
    "        print (f\"{name} is {age} years old\")"
   ]
  },
  {
   "cell_type": "code",
   "execution_count": 17,
   "id": "f4dc4995-dd0e-4a6f-989b-327a99e04b22",
   "metadata": {},
   "outputs": [
    {
     "name": "stdout",
     "output_type": "stream",
     "text": [
      "Abby is 18 years old\n",
      "Emeka is 34 years old\n",
      "Ade is 20 years old\n",
      "Salem is 56 years old\n",
      "Blessing is 35 years old\n"
     ]
    }
   ],
   "source": [
    "bios(names,ages)"
   ]
  },
  {
   "cell_type": "code",
   "execution_count": null,
   "id": "c3234730-9bd6-4e7f-b835-7eec392c6961",
   "metadata": {},
   "outputs": [],
   "source": []
  }
 ],
 "metadata": {
  "kernelspec": {
   "display_name": "Python 3 (ipykernel)",
   "language": "python",
   "name": "python3"
  },
  "language_info": {
   "codemirror_mode": {
    "name": "ipython",
    "version": 3
   },
   "file_extension": ".py",
   "mimetype": "text/x-python",
   "name": "python",
   "nbconvert_exporter": "python",
   "pygments_lexer": "ipython3",
   "version": "3.13.5"
  }
 },
 "nbformat": 4,
 "nbformat_minor": 5
}
